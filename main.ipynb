{
 "cells": [
  {
   "cell_type": "code",
   "execution_count": 1,
   "id": "4db33080",
   "metadata": {},
   "outputs": [],
   "source": [
    "import pandas as pd\n",
    "from sqlalchemy import create_engine\n",
    "import os\n",
    "import logging\n",
    "import time\n",
    "# Configure logging\n",
    "logging.basicConfig(\n",
    "    filename='logs/ingestion.log',\n",
    "    level=logging.DEBUG,\n",
    "    format='%(asctime)s - %(levelname)s - %(message)s',\n",
    "    filemode='a'\n",
    ")"
   ]
  },
  {
   "cell_type": "code",
   "execution_count": 2,
   "id": "da91eed2",
   "metadata": {},
   "outputs": [],
   "source": [
    "engine = create_engine('sqlite:///inventory.db')"
   ]
  },
  {
   "cell_type": "code",
   "execution_count": 3,
   "id": "c6132ec6",
   "metadata": {},
   "outputs": [],
   "source": [
    "def ingest_db(df, table_name, engine):\n",
    "    # Ingest the DataFrame into the database\n",
    "    df.to_sql(table_name, engine, if_exists='replace', index=False)\n",
    "    print(f\"Table '{table_name}' ingested successfully.\")"
   ]
  },
  {
   "cell_type": "code",
   "execution_count": null,
   "id": "55c12023",
   "metadata": {},
   "outputs": [
    {
     "name": "stdout",
     "output_type": "stream",
     "text": [
      "Table 'begin_inventory' ingested successfully.\n",
      "Table 'end_inventory' ingested successfully.\n",
      "Table 'purchases' ingested successfully.\n",
      "Table 'purchase_prices' ingested successfully.\n"
     ]
    }
   ],
   "source": [
    "def load_raw_data():\n",
    "    # Load raw data from CSV files in the 'data' directory\n",
    "    start = time.time()\n",
    "    for file in os.listdir('data'):\n",
    "        if '.csv' in file :\n",
    "            df = pd.read_csv(f'data/{file}')\n",
    "            logging.info(f\"Ingesting {file} in db\")\n",
    "            ingest_db(df, file[:-4], engine)\n",
    "    end = time.time()\n",
    "    total_time = (end - start)/60\n",
    "    logging.info(\"All files ingested successfully.\")\n",
    "    logging.info(f\"Total time taken to ingest all files: {total_time:.2f} seconds\")\n",
    "\n",
    "if __name__ == \"__main__\":\n",
    "    load_raw_data()\n",
    "    "
   ]
  }
 ],
 "metadata": {
  "kernelspec": {
   "display_name": "Nandini",
   "language": "python",
   "name": "python3"
  },
  "language_info": {
   "codemirror_mode": {
    "name": "ipython",
    "version": 3
   },
   "file_extension": ".py",
   "mimetype": "text/x-python",
   "name": "python",
   "nbconvert_exporter": "python",
   "pygments_lexer": "ipython3",
   "version": "3.12.0"
  }
 },
 "nbformat": 4,
 "nbformat_minor": 5
}
